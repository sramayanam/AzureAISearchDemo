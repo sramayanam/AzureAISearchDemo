{
 "cells": [
  {
   "cell_type": "code",
   "execution_count": 3,
   "metadata": {},
   "outputs": [],
   "source": [
    "import os  \n",
    "import json  \n",
    "from openai import AzureOpenAI\n",
    "from dotenv import load_dotenv  \n",
    "from tenacity import retry, wait_random_exponential, stop_after_attempt  \n",
    "import numpy as np\n",
    "from matplotlib import pyplot as plt\n",
    "from scipy.spatial.distance import cosine\n",
    "from scipy.spatial import distance\n",
    "from tabulate import tabulate"
   ]
  },
  {
   "cell_type": "code",
   "execution_count": 2,
   "metadata": {},
   "outputs": [
    {
     "data": {
      "text/plain": [
       "<function matplotlib.pyplot.show(close=None, block=None)>"
      ]
     },
     "execution_count": 2,
     "metadata": {},
     "output_type": "execute_result"
    },
    {
     "data": {
      "image/png": "[encoded data removed]",
      "text/plain": [
       "<Figure size 1000x500 with 1 Axes>"
      ]
     },
     "metadata": {},
     "output_type": "display_data"
    }
   ],
   "source": [
    "\n",
    "plt.rcParams['figure.figsize'] = [10, 5]\n",
    "plt.rcParams['figure.autolayout'] = True\n",
    "data = np.array([[1,2],[-1,1],[-1,-1]])\n",
    "origin = np.array([[0,0,0],[0,0,0]])\n",
    "plt.quiver(*origin, data[:,0], data[:,1], color=['r','g','b'], scale=10)\n",
    "plt.show"
   ]
  },
  {
   "cell_type": "code",
   "execution_count": 5,
   "metadata": {},
   "outputs": [],
   "source": [
    "load_dotenv()\n",
    "def generate_embeddings(text):\n",
    "    client = AzureOpenAI(\n",
    "    api_key = os.getenv(\"AZURE_OPENAI_API_KEY\"),  \n",
    "    api_version = \"2023-05-15\",\n",
    "    azure_endpoint = os.getenv(\"AZURE_OPENAI_ENDPOINT\")\n",
    "    )\n",
    "    model: str = \"text-embedding-ada-002\" \n",
    "    return client.embeddings.create(input = [text], model=model).data[0].embedding"
   ]
  },
  {
   "cell_type": "code",
   "execution_count": 6,
   "metadata": {},
   "outputs": [],
   "source": [
    "v1 = generate_embeddings(\"dogs are cute. Therefore adapting a dog improves your mood. Infact, many people have dogs as pets.\")\n",
    "v2 = generate_embeddings(\"Domestic animals as pets are great. cats seem to be wonderful. Some people like cats. Beware of the allergens though!!!\")\n",
    "v3 = generate_embeddings(\"sports are good for your health. Children play flag football. they iconize Tom brady as he is the best quarterback ever!!!\")\n",
    "v4 = generate_embeddings(\"les chiens sont mignons. Par conséquent, adapter un chien améliore votre humeur. Cependant, certains enfants peuvent être allergiques aux chiens.\")"
   ]
  },
  {
   "cell_type": "code",
   "execution_count": 7,
   "metadata": {},
   "outputs": [
    {
     "name": "stdout",
     "output_type": "stream",
     "text": [
      "| Vec-->Vec   |   Dot Prod |\n",
      "|-------------+------------|\n",
      "| V1-->V2     |   0.830466 |\n",
      "| V1-->V3     |   0.739152 |\n",
      "| V1-->V4     |   0.875835 |\n",
      "| V2-->V4     |   0.79109  |\n",
      "| V1-->V1     |   1        |\n",
      "\n",
      "\n",
      "| Vec-->Vec   |   Cos Sim. |\n",
      "|-------------+------------|\n",
      "| V1-->V2     |   0.169534 |\n",
      "| V1-->V3     |   0.260848 |\n",
      "| V1-->V4     |   0.124165 |\n",
      "| V2-->V4     |   0.20891  |\n",
      "| V1-->V1     |   0        |\n",
      "\n",
      "\n",
      "| Vec-->Vec   |   Eu Dist. |\n",
      "|-------------+------------|\n",
      "| V1-->V2     |   0.582296 |\n",
      "| V1-->V3     |   0.722285 |\n",
      "| V1-->V4     |   0.498326 |\n",
      "| V2-->V4     |   0.64639  |\n",
      "| V1-->V1     |   0        |\n"
     ]
    }
   ],
   "source": [
    "print(tabulate([['V1-->V2',np.dot(v1, v2)] ,['V1-->V3',np.dot(v1, v3)], ['V1-->V4',np.dot(v1, v4)],['V2-->V4',np.dot(v2, v4)],['V1-->V1',np.dot(v1, v1)]], headers=['Vec-->Vec','Dot Prod'], tablefmt='orgtbl'))\n",
    "print('\\n')\n",
    "print(tabulate([['V1-->V2',cosine(v1, v2)] ,['V1-->V3',cosine(v1, v3)], ['V1-->V4',cosine(v1, v4)],['V2-->V4',cosine(v2, v4)],['V1-->V1',cosine(v1, v1)]], headers=['Vec-->Vec','Cos Sim.'], tablefmt='orgtbl'))\n",
    "print('\\n')\n",
    "print(tabulate([['V1-->V2',distance.euclidean(v1, v2)] ,['V1-->V3',distance.euclidean(v1, v3)], ['V1-->V4',distance.euclidean(v1, v4)],['V2-->V4',distance.euclidean(v2, v4)],['V1-->V1',distance.euclidean(v1, v1)]], headers=['Vec-->Vec','Eu Dist.'], tablefmt='orgtbl'))"
   ]
  },
  {
   "cell_type": "code",
   "execution_count": null,
   "metadata": {},
   "outputs": [],
   "source": [
    "from utils.hydrateaisearchindex import hydrateaisearchindex\n",
    "hydrateaisearchindex.hydrateindex"
   ]
  },
  {
   "cell_type": "code",
   "execution_count": 1,
   "metadata": {},
   "outputs": [
    {
     "name": "stdout",
     "output_type": "stream",
     "text": [
      "Semantic Captions: \n",
      "Semantic Text: Azure Power BI Embedded is a cloud-based analytics service that enables you to embed interactive visualizations and reports into your applications. It provides features like data exploration, custom visuals, and real-time data refresh.\n",
      "Title: Azure Power BI Embedded\n",
      "Score: 0.04793839901685715\n",
      "ReRanker Score: 0.446078360080719\n",
      "Content: Azure Power BI Embedded is a cloud-based analytics service that enables you to embed interactive visualizations and reports into your applications. It provides features like data exploration, custom visuals, and real-time data refresh. Power BI Embedded supports various data sources, such as Azure SQL Database, Azure Blob Storage, and on-premises databases. You can use Power BI Embedded to create data-driven applications, improve decision-making, and enhance user experiences. It also integrates with other Azure services, such as Azure Synapse Analytics and Azure Machine Learning.\n",
      "Category: Analytics\n",
      "\n",
      "Semantic Captions: \n",
      "Semantic Text: Azure Data Share is a fully managed data sharing service that enables you to securely share and receive data from other organizations using Azure. It provides features like data snapshotting, change tracking, and access control. Data Share supports various data sources, such as Azure Blob Storage, Azure Data Lake Storage, and Azure SQL Database.\n",
      "Title: Azure Data Share\n",
      "Score: 0.048924729228019714\n",
      "ReRanker Score: 0.4108455181121826\n",
      "Content: Azure Data Share is a fully managed data sharing service that enables you to securely share and receive data from other organizations using Azure. It provides features like data snapshotting, change tracking, and access control. Data Share supports various data sources, such as Azure Blob Storage, Azure Data Lake Storage, and Azure SQL Database. You can use Azure Data Share to collaborate with your partners, improve your data governance, and ensure the security of your data. It also integrates with other Azure services, such as Azure Synapse Analytics and Azure Data Factory.\n",
      "Category: Analytics\n",
      "\n",
      "Semantic Captions: <em>Azure Synapse Analytics</em> is an integrated analytics service that brings together big data and data warehousing. It enables you to ingest, prepare, manage, and serve data for immediate business intelligence and machine learning needs.\n",
      "Semantic Text: Azure Synapse Analytics is an integrated analytics service that brings together big data and data warehousing. It enables you to ingest, prepare, manage, and serve data for immediate business intelligence and machine learning needs.\n",
      "Title: Azure Synapse Analytics\n",
      "Score: 0.016393441706895828\n",
      "ReRanker Score: 0.26072296500205994\n",
      "Content: Azure Synapse Analytics is an integrated analytics service that brings together big data and data warehousing. It enables you to ingest, prepare, manage, and serve data for immediate business intelligence and machine learning needs. Synapse Analytics provides a unified workspace for data engineers, data scientists, and business analysts to collaborate and build solutions. It supports various data sources, including Azure Data Lake Storage, Azure Blob Storage, and Azure Cosmos DB. You can use Synapse Analytics with other Azure services, such as Azure Machine Learning and Power BI.\n",
      "Category: Analytics\n",
      "\n"
     ]
    }
   ],
   "source": [
    "from operator import index\n",
    "from dotenv import load_dotenv\n",
    "from utils.performvectorsearch import performvectorsearch\n",
    "indexname= \"demo-index\"\n",
    "\n",
    "pvs = performvectorsearch()\n",
    "query=\"How can I host my website?\"\n",
    "\n",
    "results = pvs.searchvector(query,\"contentVector,titleVector\",[\"title\", \"content\", \"category\"])\n",
    "for result in results:  \n",
    "    print(f\"Semantic Captions: {result['@search.captions'][0].highlights}\")\n",
    "    print(f\"Semantic Text: {result['@search.captions'][0].text}\")\n",
    "    print(f\"Title: {result['title']}\")  \n",
    "    print(f\"Score: {result['@search.score']}\")  \n",
    "    print(f\"ReRanker Score: {result['@search.reranker_score']}\")  \n",
    "    print(f\"Content: {result['content']}\")  \n",
    "    print(f\"Category: {result['category']}\\n\")  "
   ]
  },
  {
   "cell_type": "markdown",
   "metadata": {},
   "source": []
  }
 ],
 "metadata": {
  "kernelspec": {
   "display_name": "aisearch",
   "language": "python",
   "name": "python3"
  },
  "language_info": {
   "codemirror_mode": {
    "name": "ipython",
    "version": 3
   },
   "file_extension": ".py",
   "mimetype": "text/x-python",
   "name": "python",
   "nbconvert_exporter": "python",
   "pygments_lexer": "ipython3",
   "version": "3.11.5"
  }
 },
 "nbformat": 4,
 "nbformat_minor": 2
}
